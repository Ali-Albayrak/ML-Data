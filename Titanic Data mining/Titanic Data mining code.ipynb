{
  "cells": [
    {
      "cell_type": "code",
      "execution_count": null,
      "metadata": {
        "id": "6OOky3ygrITH"
      },
      "outputs": [],
      "source": [
        "import numpy as np\n",
        "import pandas as pd\n",
        "\n",
        "from sklearn.linear_model import LogisticRegression\n",
        "from sklearn import metrics\n",
        "\n",
        "import matplotlib.pyplot as plt\n",
        "import seaborn as sns\n",
        "\n",
        "plt.rcParams['text.usetex'] = False\n",
        "plt.rcParams.update({'font.size': 14})"
      ]
    },
    {
      "cell_type": "code",
      "execution_count": null,
      "metadata": {
        "id": "UjD6WhpksTxZ"
      },
      "outputs": [],
      "source": [
        "PATH = './Data/'"
      ]
    },
    {
      "cell_type": "code",
      "execution_count": null,
      "metadata": {
        "colab": {
          "base_uri": "https://localhost:8080/",
          "height": 363
        },
        "id": "Y3psS4Srrfdy",
        "outputId": "4d05df5f-2c5a-4c9d-b675-7c62cafdf68e"
      },
      "outputs": [
        {
          "data": {
            "text/html": [
              "\n",
              "  <div id=\"df-50f0d4a4-9bbd-4c6e-bfcf-f77fe5a5e379\">\n",
              "    <div class=\"colab-df-container\">\n",
              "      <div>\n",
              "<style scoped>\n",
              "    .dataframe tbody tr th:only-of-type {\n",
              "        vertical-align: middle;\n",
              "    }\n",
              "\n",
              "    .dataframe tbody tr th {\n",
              "        vertical-align: top;\n",
              "    }\n",
              "\n",
              "    .dataframe thead th {\n",
              "        text-align: right;\n",
              "    }\n",
              "</style>\n",
              "<table border=\"1\" class=\"dataframe\">\n",
              "  <thead>\n",
              "    <tr style=\"text-align: right;\">\n",
              "      <th></th>\n",
              "      <th>PassengerId</th>\n",
              "      <th>Survived</th>\n",
              "      <th>Pclass</th>\n",
              "      <th>Name</th>\n",
              "      <th>Sex</th>\n",
              "      <th>Age</th>\n",
              "      <th>SibSp</th>\n",
              "      <th>Parch</th>\n",
              "      <th>Ticket</th>\n",
              "      <th>Fare</th>\n",
              "      <th>Cabin</th>\n",
              "      <th>Embarked</th>\n",
              "    </tr>\n",
              "  </thead>\n",
              "  <tbody>\n",
              "    <tr>\n",
              "      <th>0</th>\n",
              "      <td>1</td>\n",
              "      <td>0</td>\n",
              "      <td>3</td>\n",
              "      <td>Braund, Mr. Owen Harris</td>\n",
              "      <td>male</td>\n",
              "      <td>22.0</td>\n",
              "      <td>1</td>\n",
              "      <td>0</td>\n",
              "      <td>A/5 21171</td>\n",
              "      <td>7.2500</td>\n",
              "      <td>NaN</td>\n",
              "      <td>S</td>\n",
              "    </tr>\n",
              "    <tr>\n",
              "      <th>1</th>\n",
              "      <td>2</td>\n",
              "      <td>1</td>\n",
              "      <td>1</td>\n",
              "      <td>Cumings, Mrs. John Bradley (Florence Briggs Th...</td>\n",
              "      <td>female</td>\n",
              "      <td>38.0</td>\n",
              "      <td>1</td>\n",
              "      <td>0</td>\n",
              "      <td>PC 17599</td>\n",
              "      <td>71.2833</td>\n",
              "      <td>C85</td>\n",
              "      <td>C</td>\n",
              "    </tr>\n",
              "    <tr>\n",
              "      <th>2</th>\n",
              "      <td>3</td>\n",
              "      <td>1</td>\n",
              "      <td>3</td>\n",
              "      <td>Heikkinen, Miss. Laina</td>\n",
              "      <td>female</td>\n",
              "      <td>26.0</td>\n",
              "      <td>0</td>\n",
              "      <td>0</td>\n",
              "      <td>STON/O2. 3101282</td>\n",
              "      <td>7.9250</td>\n",
              "      <td>NaN</td>\n",
              "      <td>S</td>\n",
              "    </tr>\n",
              "    <tr>\n",
              "      <th>3</th>\n",
              "      <td>4</td>\n",
              "      <td>1</td>\n",
              "      <td>1</td>\n",
              "      <td>Futrelle, Mrs. Jacques Heath (Lily May Peel)</td>\n",
              "      <td>female</td>\n",
              "      <td>35.0</td>\n",
              "      <td>1</td>\n",
              "      <td>0</td>\n",
              "      <td>113803</td>\n",
              "      <td>53.1000</td>\n",
              "      <td>C123</td>\n",
              "      <td>S</td>\n",
              "    </tr>\n",
              "    <tr>\n",
              "      <th>4</th>\n",
              "      <td>5</td>\n",
              "      <td>0</td>\n",
              "      <td>3</td>\n",
              "      <td>Allen, Mr. William Henry</td>\n",
              "      <td>male</td>\n",
              "      <td>35.0</td>\n",
              "      <td>0</td>\n",
              "      <td>0</td>\n",
              "      <td>373450</td>\n",
              "      <td>8.0500</td>\n",
              "      <td>NaN</td>\n",
              "      <td>S</td>\n",
              "    </tr>\n",
              "    <tr>\n",
              "      <th>5</th>\n",
              "      <td>6</td>\n",
              "      <td>0</td>\n",
              "      <td>3</td>\n",
              "      <td>Moran, Mr. James</td>\n",
              "      <td>male</td>\n",
              "      <td>NaN</td>\n",
              "      <td>0</td>\n",
              "      <td>0</td>\n",
              "      <td>330877</td>\n",
              "      <td>8.4583</td>\n",
              "      <td>NaN</td>\n",
              "      <td>Q</td>\n",
              "    </tr>\n",
              "    <tr>\n",
              "      <th>6</th>\n",
              "      <td>7</td>\n",
              "      <td>0</td>\n",
              "      <td>1</td>\n",
              "      <td>McCarthy, Mr. Timothy J</td>\n",
              "      <td>male</td>\n",
              "      <td>54.0</td>\n",
              "      <td>0</td>\n",
              "      <td>0</td>\n",
              "      <td>17463</td>\n",
              "      <td>51.8625</td>\n",
              "      <td>E46</td>\n",
              "      <td>S</td>\n",
              "    </tr>\n",
              "    <tr>\n",
              "      <th>7</th>\n",
              "      <td>8</td>\n",
              "      <td>0</td>\n",
              "      <td>3</td>\n",
              "      <td>Palsson, Master. Gosta Leonard</td>\n",
              "      <td>male</td>\n",
              "      <td>2.0</td>\n",
              "      <td>3</td>\n",
              "      <td>1</td>\n",
              "      <td>349909</td>\n",
              "      <td>21.0750</td>\n",
              "      <td>NaN</td>\n",
              "      <td>S</td>\n",
              "    </tr>\n",
              "    <tr>\n",
              "      <th>8</th>\n",
              "      <td>9</td>\n",
              "      <td>1</td>\n",
              "      <td>3</td>\n",
              "      <td>Johnson, Mrs. Oscar W (Elisabeth Vilhelmina Berg)</td>\n",
              "      <td>female</td>\n",
              "      <td>27.0</td>\n",
              "      <td>0</td>\n",
              "      <td>2</td>\n",
              "      <td>347742</td>\n",
              "      <td>11.1333</td>\n",
              "      <td>NaN</td>\n",
              "      <td>S</td>\n",
              "    </tr>\n",
              "    <tr>\n",
              "      <th>9</th>\n",
              "      <td>10</td>\n",
              "      <td>1</td>\n",
              "      <td>2</td>\n",
              "      <td>Nasser, Mrs. Nicholas (Adele Achem)</td>\n",
              "      <td>female</td>\n",
              "      <td>14.0</td>\n",
              "      <td>1</td>\n",
              "      <td>0</td>\n",
              "      <td>237736</td>\n",
              "      <td>30.0708</td>\n",
              "      <td>NaN</td>\n",
              "      <td>C</td>\n",
              "    </tr>\n",
              "  </tbody>\n",
              "</table>\n",
              "</div>\n",
              "      <button class=\"colab-df-convert\" onclick=\"convertToInteractive('df-50f0d4a4-9bbd-4c6e-bfcf-f77fe5a5e379')\"\n",
              "              title=\"Convert this dataframe to an interactive table.\"\n",
              "              style=\"display:none;\">\n",
              "        \n",
              "  <svg xmlns=\"http://www.w3.org/2000/svg\" height=\"24px\"viewBox=\"0 0 24 24\"\n",
              "       width=\"24px\">\n",
              "    <path d=\"M0 0h24v24H0V0z\" fill=\"none\"/>\n",
              "    <path d=\"M18.56 5.44l.94 2.06.94-2.06 2.06-.94-2.06-.94-.94-2.06-.94 2.06-2.06.94zm-11 1L8.5 8.5l.94-2.06 2.06-.94-2.06-.94L8.5 2.5l-.94 2.06-2.06.94zm10 10l.94 2.06.94-2.06 2.06-.94-2.06-.94-.94-2.06-.94 2.06-2.06.94z\"/><path d=\"M17.41 7.96l-1.37-1.37c-.4-.4-.92-.59-1.43-.59-.52 0-1.04.2-1.43.59L10.3 9.45l-7.72 7.72c-.78.78-.78 2.05 0 2.83L4 21.41c.39.39.9.59 1.41.59.51 0 1.02-.2 1.41-.59l7.78-7.78 2.81-2.81c.8-.78.8-2.07 0-2.86zM5.41 20L4 18.59l7.72-7.72 1.47 1.35L5.41 20z\"/>\n",
              "  </svg>\n",
              "      </button>\n",
              "      \n",
              "  <style>\n",
              "    .colab-df-container {\n",
              "      display:flex;\n",
              "      flex-wrap:wrap;\n",
              "      gap: 12px;\n",
              "    }\n",
              "\n",
              "    .colab-df-convert {\n",
              "      background-color: #E8F0FE;\n",
              "      border: none;\n",
              "      border-radius: 50%;\n",
              "      cursor: pointer;\n",
              "      display: none;\n",
              "      fill: #1967D2;\n",
              "      height: 32px;\n",
              "      padding: 0 0 0 0;\n",
              "      width: 32px;\n",
              "    }\n",
              "\n",
              "    .colab-df-convert:hover {\n",
              "      background-color: #E2EBFA;\n",
              "      box-shadow: 0px 1px 2px rgba(60, 64, 67, 0.3), 0px 1px 3px 1px rgba(60, 64, 67, 0.15);\n",
              "      fill: #174EA6;\n",
              "    }\n",
              "\n",
              "    [theme=dark] .colab-df-convert {\n",
              "      background-color: #3B4455;\n",
              "      fill: #D2E3FC;\n",
              "    }\n",
              "\n",
              "    [theme=dark] .colab-df-convert:hover {\n",
              "      background-color: #434B5C;\n",
              "      box-shadow: 0px 1px 3px 1px rgba(0, 0, 0, 0.15);\n",
              "      filter: drop-shadow(0px 1px 2px rgba(0, 0, 0, 0.3));\n",
              "      fill: #FFFFFF;\n",
              "    }\n",
              "  </style>\n",
              "\n",
              "      <script>\n",
              "        const buttonEl =\n",
              "          document.querySelector('#df-50f0d4a4-9bbd-4c6e-bfcf-f77fe5a5e379 button.colab-df-convert');\n",
              "        buttonEl.style.display =\n",
              "          google.colab.kernel.accessAllowed ? 'block' : 'none';\n",
              "\n",
              "        async function convertToInteractive(key) {\n",
              "          const element = document.querySelector('#df-50f0d4a4-9bbd-4c6e-bfcf-f77fe5a5e379');\n",
              "          const dataTable =\n",
              "            await google.colab.kernel.invokeFunction('convertToInteractive',\n",
              "                                                     [key], {});\n",
              "          if (!dataTable) return;\n",
              "\n",
              "          const docLinkHtml = 'Like what you see? Visit the ' +\n",
              "            '<a target=\"_blank\" href=https://colab.research.google.com/notebooks/data_table.ipynb>data table notebook</a>'\n",
              "            + ' to learn more about interactive tables.';\n",
              "          element.innerHTML = '';\n",
              "          dataTable['output_type'] = 'display_data';\n",
              "          await google.colab.output.renderOutput(dataTable, element);\n",
              "          const docLink = document.createElement('div');\n",
              "          docLink.innerHTML = docLinkHtml;\n",
              "          element.appendChild(docLink);\n",
              "        }\n",
              "      </script>\n",
              "    </div>\n",
              "  </div>\n",
              "  "
            ],
            "text/plain": [
              "   PassengerId  Survived  Pclass  \\\n",
              "0            1         0       3   \n",
              "1            2         1       1   \n",
              "2            3         1       3   \n",
              "3            4         1       1   \n",
              "4            5         0       3   \n",
              "5            6         0       3   \n",
              "6            7         0       1   \n",
              "7            8         0       3   \n",
              "8            9         1       3   \n",
              "9           10         1       2   \n",
              "\n",
              "                                                Name     Sex   Age  SibSp  \\\n",
              "0                            Braund, Mr. Owen Harris    male  22.0      1   \n",
              "1  Cumings, Mrs. John Bradley (Florence Briggs Th...  female  38.0      1   \n",
              "2                             Heikkinen, Miss. Laina  female  26.0      0   \n",
              "3       Futrelle, Mrs. Jacques Heath (Lily May Peel)  female  35.0      1   \n",
              "4                           Allen, Mr. William Henry    male  35.0      0   \n",
              "5                                   Moran, Mr. James    male   NaN      0   \n",
              "6                            McCarthy, Mr. Timothy J    male  54.0      0   \n",
              "7                     Palsson, Master. Gosta Leonard    male   2.0      3   \n",
              "8  Johnson, Mrs. Oscar W (Elisabeth Vilhelmina Berg)  female  27.0      0   \n",
              "9                Nasser, Mrs. Nicholas (Adele Achem)  female  14.0      1   \n",
              "\n",
              "   Parch            Ticket     Fare Cabin Embarked  \n",
              "0      0         A/5 21171   7.2500   NaN        S  \n",
              "1      0          PC 17599  71.2833   C85        C  \n",
              "2      0  STON/O2. 3101282   7.9250   NaN        S  \n",
              "3      0            113803  53.1000  C123        S  \n",
              "4      0            373450   8.0500   NaN        S  \n",
              "5      0            330877   8.4583   NaN        Q  \n",
              "6      0             17463  51.8625   E46        S  \n",
              "7      1            349909  21.0750   NaN        S  \n",
              "8      2            347742  11.1333   NaN        S  \n",
              "9      0            237736  30.0708   NaN        C  "
            ]
          },
          "execution_count": 114,
          "metadata": {},
          "output_type": "execute_result"
        }
      ],
      "source": [
        "data_train = pd.read_csv(PATH+\"titanic-train.csv\")\n",
        "data_train.head(10)\n"
      ]
    },
    {
      "attachments": {},
      "cell_type": "markdown",
      "metadata": {
        "id": "5CWhxgtztzrW"
      },
      "source": [
        "# **Analysis**"
      ]
    },
    {
      "cell_type": "code",
      "execution_count": null,
      "metadata": {
        "colab": {
          "base_uri": "https://localhost:8080/"
        },
        "id": "X761CYyBt6LG",
        "outputId": "2a22545f-ded7-407e-b1b1-b307d9a74c1f"
      },
      "outputs": [
        {
          "name": "stdout",
          "output_type": "stream",
          "text": [
            "total data shape: (891, 12)\n",
            "feature PassengerId: unique values = 891\n",
            "feature Survived   : unique values = 2\n",
            "feature Pclass     : unique values = 3\n",
            "feature Name       : unique values = 891\n",
            "feature Sex        : unique values = 2\n",
            "feature Age        : unique values = 89\n",
            "feature SibSp      : unique values = 7\n",
            "feature Parch      : unique values = 7\n",
            "feature Ticket     : unique values = 681\n",
            "feature Fare       : unique values = 248\n",
            "feature Cabin      : unique values = 148\n",
            "feature Embarked   : unique values = 4\n"
          ]
        }
      ],
      "source": [
        "print(f\"total data shape: {data_train.shape}\")\n",
        "\n",
        "def unique_features(data):\n",
        "    for feature in data.columns:\n",
        "        num = len(data.loc[:,feature].unique())\n",
        "        print(f\"feature {feature:11s}: unique values = {num}\")\n",
        "\n",
        "unique_features(data_train)"
      ]
    },
    {
      "cell_type": "code",
      "execution_count": null,
      "metadata": {
        "id": "vayPvu8EuOTN"
      },
      "outputs": [],
      "source": [
        "def barplots(feature,data):\n",
        "    feature_counts = data.value_counts(feature).sort_index()\n",
        "    fig, ax = plt.subplots(1, 3, figsize=(15, 2))\n",
        "    fig.subplots_adjust(wspace=0.2)\n",
        "    ax = ax.flatten()\n",
        "    ax[0].barh(feature_counts.index,feature_counts.values/data.shape[0]*100)\n",
        "    ax[0].set_xlabel('percent in all cases')\n",
        "\n",
        "    survived_by_feature = data.groupby(feature, as_index=True)['Survived'].sum()\n",
        "    total_survived_cases = data_train.loc[:,'Survived'].sum()\n",
        "    ax[1].barh(survived_by_feature.index,survived_by_feature.values/total_survived_cases*100)\n",
        "    ax[1].set_xlabel('percent in survived cases')\n",
        "\n",
        "    return survived_by_feature, feature_counts, ax, fig"
      ]
    },
    {
      "attachments": {},
      "cell_type": "markdown",
      "metadata": {
        "id": "tOxkwV8yy3ob"
      },
      "source": [
        "## **Pclass**"
      ]
    },
    {
      "cell_type": "code",
      "execution_count": null,
      "metadata": {
        "colab": {
          "base_uri": "https://localhost:8080/"
        },
        "id": "tXht_6Tl-njC",
        "outputId": "2c23e784-ce02-4d98-b4ba-449f5ba7ada8"
      },
      "outputs": [
        {
          "data": {
            "text/plain": [
              "Pclass\n",
              "3    491\n",
              "1    216\n",
              "2    184\n",
              "dtype: int64"
            ]
          },
          "execution_count": 117,
          "metadata": {},
          "output_type": "execute_result"
        }
      ],
      "source": [
        "data_train.value_counts('Pclass',dropna=False)\n"
      ]
    },
    {
      "cell_type": "code",
      "execution_count": null,
      "metadata": {
        "colab": {
          "base_uri": "https://localhost:8080/",
          "height": 296
        },
        "id": "CJG4mwYKy2mQ",
        "outputId": "f07dc66c-7e15-4369-8079-6155296f2023"
      },
      "outputs": [
        {
          "name": "stdout",
          "output_type": "stream",
          "text": [
            "percent of Pclass3 survived = 24.24\n",
            "percent of Pclass2 survived = 47.28\n",
            "percent of Pclass1 survived = 62.96\n"
          ]
        },
        {
          "data": {
            "image/png": "[encoded data removed]",
            "text/plain": [
              "<Figure size 1500x200 with 3 Axes>"
            ]
          },
          "metadata": {},
          "output_type": "display_data"
        }
      ],
      "source": [
        "survived_by_feature, feature_counts, ax, fig = barplots('Pclass',data_train)\n",
        "\n",
        "normalized_probability = [survived_by_feature[1]/feature_counts[1],\n",
        "                          survived_by_feature[2]/feature_counts[2],\n",
        "                          survived_by_feature[3]/feature_counts[3]]\n",
        "ax[2].barh(['1','2','3'],np.array(normalized_probability),color=['red', 'blue', 'black'])\n",
        "ax[2].set_xlabel('normalized probability of survival')\n",
        "ax[0].set_ylabel('Pclass')\n",
        "\n",
        "Pclass3 = data_train.loc[data_train['Pclass'] == 3]['Survived']\n",
        "print(f\"percent of Pclass3 survived = {sum(Pclass3)/len(Pclass3)*100:.2f}\")\n",
        "Pclass2 = data_train.loc[data_train['Pclass'] == 2]['Survived']\n",
        "print(f\"percent of Pclass2 survived = {sum(Pclass2)/len(Pclass2)*100:.2f}\")\n",
        "Pclass1 = data_train.loc[data_train['Pclass'] == 1]['Survived']\n",
        "print(f\"percent of Pclass1 survived = {sum(Pclass1)/len(Pclass1)*100:.2f}\")\n",
        "\n",
        "plt.show()"
      ]
    },
    {
      "cell_type": "code",
      "execution_count": null,
      "metadata": {
        "colab": {
          "base_uri": "https://localhost:8080/"
        },
        "id": "KX3otYj7y9lv",
        "outputId": "727a52cf-df3b-44e1-fb88-f3a3c60e1bb0"
      },
      "outputs": [
        {
          "name": "stdout",
          "output_type": "stream",
          "text": [
            "correlation of Survival with Pclass is -0.3385\n"
          ]
        }
      ],
      "source": [
        "correlation = data_train['Pclass'].corr(data_train['Survived'])\n",
        "print(f\"correlation of Survival with Pclass is {correlation:.4f}\")"
      ]
    },
    {
      "attachments": {},
      "cell_type": "markdown",
      "metadata": {
        "id": "YvvnKscJzMxb"
      },
      "source": [
        "## **sex**"
      ]
    },
    {
      "cell_type": "code",
      "execution_count": null,
      "metadata": {
        "colab": {
          "base_uri": "https://localhost:8080/"
        },
        "id": "U_IjFqid-jcY",
        "outputId": "54974231-fdfb-4a31-c175-844d4c621c7f"
      },
      "outputs": [
        {
          "data": {
            "text/plain": [
              "Sex\n",
              "male      577\n",
              "female    314\n",
              "dtype: int64"
            ]
          },
          "execution_count": 120,
          "metadata": {},
          "output_type": "execute_result"
        }
      ],
      "source": [
        "data_train.value_counts('Sex',dropna=False)\n"
      ]
    },
    {
      "cell_type": "code",
      "execution_count": null,
      "metadata": {
        "colab": {
          "base_uri": "https://localhost:8080/",
          "height": 279
        },
        "id": "I1WVYCcMzMTM",
        "outputId": "aca8cdb9-f97e-4b2c-c1d2-17274250ad2a"
      },
      "outputs": [
        {
          "name": "stdout",
          "output_type": "stream",
          "text": [
            "percent of men survived = 18.89\n",
            "percent of women survived = 74.20\n"
          ]
        },
        {
          "data": {
            "image/png": "[encoded data removed]",
            "text/plain": [
              "<Figure size 1500x200 with 3 Axes>"
            ]
          },
          "metadata": {},
          "output_type": "display_data"
        }
      ],
      "source": [
        "survived_by_feature, feature_counts, ax, fig = barplots('Sex',data_train)\n",
        "\n",
        "normalized_probability = [survived_by_feature['female']/feature_counts['female'],\n",
        "                          survived_by_feature['male']/feature_counts['male']]\n",
        "ax[2].barh(['female','male'],np.array(normalized_probability),color=['pink', 'blue'])\n",
        "ax[2].set_xlabel('normalized probability of survival')\n",
        "ax[0].set_ylabel('Sex')\n",
        "\n",
        "survived_men = data_train.loc[data_train['Sex'] == 'male']['Survived']\n",
        "print(f\"percent of men survived = {sum(survived_men)/len(survived_men)*100:.2f}\")\n",
        "survived_women = data_train.loc[data_train['Sex'] == 'female']['Survived']\n",
        "print(f\"percent of women survived = {sum(survived_women)/len(survived_women)*100:.2f}\")\n",
        "\n",
        "plt.show()"
      ]
    },
    {
      "cell_type": "code",
      "execution_count": null,
      "metadata": {
        "id": "tmh-5n1t1Urf"
      },
      "outputs": [],
      "source": [
        "def sex_to_catg(sex):\n",
        "    if sex == 'female':\n",
        "        return 0\n",
        "    return 1\n",
        "\n",
        "data_train['Sex'] = data_train['Sex'].apply(sex_to_catg)\n"
      ]
    },
    {
      "cell_type": "code",
      "execution_count": null,
      "metadata": {
        "colab": {
          "base_uri": "https://localhost:8080/"
        },
        "id": "Mp5c0VOh40_Z",
        "outputId": "fb86a9c6-1413-49ce-83fa-d4826c909cf6"
      },
      "outputs": [
        {
          "name": "stdout",
          "output_type": "stream",
          "text": [
            "correlation of Survival with Sex is -0.5434\n"
          ]
        }
      ],
      "source": [
        "correlation = data_train['Sex'].corr(data_train['Survived'])\n",
        "print(f\"correlation of Survival with Sex is {correlation:.4f}\")"
      ]
    },
    {
      "attachments": {},
      "cell_type": "markdown",
      "metadata": {
        "id": "vmri6BEd5Bx9"
      },
      "source": [
        "## **Age**"
      ]
    },
    {
      "cell_type": "code",
      "execution_count": null,
      "metadata": {
        "colab": {
          "base_uri": "https://localhost:8080/"
        },
        "id": "60ju1t5l-R1P",
        "outputId": "9e99d5b7-6238-4a76-f40c-b8c608a74e89"
      },
      "outputs": [
        {
          "data": {
            "text/plain": [
              "Age\n",
              "NaN      177\n",
              "24.00     30\n",
              "22.00     27\n",
              "18.00     26\n",
              "30.00     25\n",
              "        ... \n",
              "24.50      1\n",
              "0.67       1\n",
              "0.92       1\n",
              "36.50      1\n",
              "0.42       1\n",
              "Length: 89, dtype: int64"
            ]
          },
          "execution_count": 124,
          "metadata": {},
          "output_type": "execute_result"
        }
      ],
      "source": [
        "data_train.value_counts('Age',dropna=False)\n"
      ]
    },
    {
      "cell_type": "code",
      "execution_count": null,
      "metadata": {
        "id": "XXHqq8fy5DI_"
      },
      "outputs": [],
      "source": [
        "mean_Age = data_train['Age'].mean()\n",
        "data_train['Age'] = data_train['Age'].fillna(mean_Age)"
      ]
    },
    {
      "cell_type": "code",
      "execution_count": null,
      "metadata": {
        "colab": {
          "base_uri": "https://localhost:8080/",
          "height": 244
        },
        "id": "aXPsTe-P5PRB",
        "outputId": "5fae98bc-1db4-4e5e-ed1f-b3c11a81a497"
      },
      "outputs": [
        {
          "data": {
            "image/png": "[encoded data removed]",
            "text/plain": [
              "<Figure size 1500x200 with 3 Axes>"
            ]
          },
          "metadata": {},
          "output_type": "display_data"
        }
      ],
      "source": [
        "survived_by_feature, feature_counts, ax, fig = barplots('Age',data_train)\n",
        "\n",
        "normalized_probability = []\n",
        "for i in feature_counts.index:\n",
        "    normalized_probability.append(survived_by_feature[i]/feature_counts[i])\n",
        "\n",
        "ax[2].barh(feature_counts.index,np.array(normalized_probability))\n",
        "ax[2].set_xlabel('normalized probability of survival')\n",
        "ax[0].set_ylabel('Age')\n",
        "plt.setp(ax, yticks=range(0,100,20))\n",
        "\n",
        "plt.show()"
      ]
    },
    {
      "cell_type": "code",
      "execution_count": null,
      "metadata": {
        "colab": {
          "base_uri": "https://localhost:8080/"
        },
        "id": "nab_UBSV5eAm",
        "outputId": "da6c817f-fad5-4d78-bf89-33c80d63a258"
      },
      "outputs": [
        {
          "name": "stdout",
          "output_type": "stream",
          "text": [
            "correlation of Survival with Age is -0.0698\n"
          ]
        }
      ],
      "source": [
        "correlation = data_train['Age'].corr(data_train['Survived'])\n",
        "print(f\"correlation of Survival with Age is {correlation:.4f}\")"
      ]
    },
    {
      "attachments": {},
      "cell_type": "markdown",
      "metadata": {
        "id": "WMhkp7vf9Tel"
      },
      "source": [
        "## **SibSp**"
      ]
    },
    {
      "cell_type": "code",
      "execution_count": null,
      "metadata": {
        "colab": {
          "base_uri": "https://localhost:8080/"
        },
        "id": "k29sb8kz-NZM",
        "outputId": "4e58bf4e-4be1-4152-b72a-0e9621e1ef4d"
      },
      "outputs": [
        {
          "data": {
            "text/plain": [
              "SibSp\n",
              "0    608\n",
              "1    209\n",
              "2     28\n",
              "4     18\n",
              "3     16\n",
              "8      7\n",
              "5      5\n",
              "dtype: int64"
            ]
          },
          "execution_count": 128,
          "metadata": {},
          "output_type": "execute_result"
        }
      ],
      "source": [
        "data_train.value_counts('SibSp',dropna=False)\n"
      ]
    },
    {
      "cell_type": "code",
      "execution_count": null,
      "metadata": {
        "colab": {
          "base_uri": "https://localhost:8080/",
          "height": 244
        },
        "id": "0p9RByy05z5m",
        "outputId": "43b95f5e-1c6e-4ca1-b43d-aeb0b88d5b67"
      },
      "outputs": [
        {
          "data": {
            "image/png": "[encoded data removed]",
            "text/plain": [
              "<Figure size 500x200 with 1 Axes>"
            ]
          },
          "metadata": {},
          "output_type": "display_data"
        }
      ],
      "source": [
        "yes = data_train.loc[:,'Survived'] == 1\n",
        "no = data_train.loc[:,'Survived'] == 0\n",
        "def cont_plot(feature):\n",
        "    plt.figure(figsize=(5,2))\n",
        "    plt.scatter(data_train.loc[no,feature],np.zeros(no.sum()),marker='o',color='b',s=20,linewidth=0.5,label='no')\n",
        "    plt.scatter(data_train.loc[yes,feature],np.ones(yes.sum()),marker='x',color='r',s=40,linewidth=0.5,label='yes')\n",
        "    plt.xlabel(feature)\n",
        "    plt.ylabel('Survived?')\n",
        "    plt.yticks([0,1])\n",
        "    plt.legend(frameon=False)\n",
        "    plt.show()\n",
        "\n",
        "cont_plot('SibSp')"
      ]
    },
    {
      "cell_type": "code",
      "execution_count": null,
      "metadata": {
        "colab": {
          "base_uri": "https://localhost:8080/"
        },
        "id": "2TfaKSud6EfR",
        "outputId": "0d3a318d-a4ad-49c4-f828-90ed99280906"
      },
      "outputs": [
        {
          "name": "stdout",
          "output_type": "stream",
          "text": [
            "correlation of Survival with SibSp is -0.0353\n"
          ]
        }
      ],
      "source": [
        "correlation = data_train['SibSp'].corr(data_train['Survived'])\n",
        "print(f\"correlation of Survival with SibSp is {correlation:.4f}\")"
      ]
    },
    {
      "attachments": {},
      "cell_type": "markdown",
      "metadata": {
        "id": "hjxln8BN6KMJ"
      },
      "source": [
        "## **Parch**"
      ]
    },
    {
      "cell_type": "code",
      "execution_count": null,
      "metadata": {
        "colab": {
          "base_uri": "https://localhost:8080/"
        },
        "id": "MMtVCZpz-Iqk",
        "outputId": "ef243fec-0aae-4f8e-8cea-51cf4b10ccc6"
      },
      "outputs": [
        {
          "data": {
            "text/plain": [
              "Parch\n",
              "0    678\n",
              "1    118\n",
              "2     80\n",
              "3      5\n",
              "5      5\n",
              "4      4\n",
              "6      1\n",
              "dtype: int64"
            ]
          },
          "execution_count": 131,
          "metadata": {},
          "output_type": "execute_result"
        }
      ],
      "source": [
        "data_train.value_counts('Parch',dropna=False)\n"
      ]
    },
    {
      "cell_type": "code",
      "execution_count": null,
      "metadata": {
        "colab": {
          "base_uri": "https://localhost:8080/",
          "height": 244
        },
        "id": "mr4DOfDH6J-x",
        "outputId": "a1c48059-4754-447f-a7b8-3df89573e38a"
      },
      "outputs": [
        {
          "data": {
            "image/png": "[encoded data removed]",
            "text/plain": [
              "<Figure size 500x200 with 1 Axes>"
            ]
          },
          "metadata": {},
          "output_type": "display_data"
        }
      ],
      "source": [
        "cont_plot('Parch')\n"
      ]
    },
    {
      "cell_type": "code",
      "execution_count": null,
      "metadata": {
        "colab": {
          "base_uri": "https://localhost:8080/"
        },
        "id": "u-nTLSol6jjo",
        "outputId": "dd6d2296-6963-4abc-b60c-69fe7060f656"
      },
      "outputs": [
        {
          "name": "stdout",
          "output_type": "stream",
          "text": [
            "correlation of Survival with Parch is 0.0816\n"
          ]
        }
      ],
      "source": [
        "correlation = data_train['Parch'].corr(data_train['Survived'])\n",
        "print(f\"correlation of Survival with Parch is {correlation:.4f}\")"
      ]
    },
    {
      "attachments": {},
      "cell_type": "markdown",
      "metadata": {
        "id": "cD0XNZXD6oLr"
      },
      "source": [
        "## **Fare**"
      ]
    },
    {
      "cell_type": "code",
      "execution_count": null,
      "metadata": {
        "colab": {
          "base_uri": "https://localhost:8080/"
        },
        "id": "OLXtzJG39y_O",
        "outputId": "5ae9ba6f-e630-4759-8e57-898ea4a2b959"
      },
      "outputs": [
        {
          "data": {
            "text/plain": [
              "Fare\n",
              "8.0500     43\n",
              "13.0000    42\n",
              "7.8958     38\n",
              "7.7500     34\n",
              "26.0000    31\n",
              "           ..\n",
              "8.1125      1\n",
              "8.1375      1\n",
              "17.4000     1\n",
              "8.1583      1\n",
              "7.7292      1\n",
              "Length: 248, dtype: int64"
            ]
          },
          "execution_count": 134,
          "metadata": {},
          "output_type": "execute_result"
        }
      ],
      "source": [
        "data_train.value_counts('Fare',dropna=False)\n"
      ]
    },
    {
      "cell_type": "code",
      "execution_count": null,
      "metadata": {
        "colab": {
          "base_uri": "https://localhost:8080/",
          "height": 244
        },
        "id": "1bv32TaF6omy",
        "outputId": "cd96a9e0-3e3a-4f76-abdc-2fa1f8cfa0c1"
      },
      "outputs": [
        {
          "data": {
            "image/png": "[encoded data removed]",
            "text/plain": [
              "<Figure size 500x200 with 1 Axes>"
            ]
          },
          "metadata": {},
          "output_type": "display_data"
        }
      ],
      "source": [
        "cont_plot('Fare')\n"
      ]
    },
    {
      "cell_type": "code",
      "execution_count": null,
      "metadata": {
        "colab": {
          "base_uri": "https://localhost:8080/"
        },
        "id": "o9RYttce6qxt",
        "outputId": "b158665b-3c50-4886-b34c-cfb06938d650"
      },
      "outputs": [
        {
          "name": "stdout",
          "output_type": "stream",
          "text": [
            "correlation of Survival with Fare is 0.2573\n"
          ]
        }
      ],
      "source": [
        "correlation = data_train['Fare'].corr(data_train['Survived'])\n",
        "print(f\"correlation of Survival with Fare is {correlation:.4f}\")"
      ]
    },
    {
      "attachments": {},
      "cell_type": "markdown",
      "metadata": {
        "id": "5SW-RWRj7Te8"
      },
      "source": [
        "## **Cabin**"
      ]
    },
    {
      "cell_type": "code",
      "execution_count": null,
      "metadata": {
        "colab": {
          "base_uri": "https://localhost:8080/"
        },
        "id": "IJumxK2O9tz7",
        "outputId": "a82109d4-0de6-4b3c-cddd-14d6207469f4"
      },
      "outputs": [
        {
          "data": {
            "text/plain": [
              "Cabin\n",
              "NaN            687\n",
              "C23 C25 C27      4\n",
              "B96 B98          4\n",
              "G6               4\n",
              "E101             3\n",
              "              ... \n",
              "C62 C64          1\n",
              "C54              1\n",
              "B39              1\n",
              "C50              1\n",
              "A10              1\n",
              "Length: 148, dtype: int64"
            ]
          },
          "execution_count": 137,
          "metadata": {},
          "output_type": "execute_result"
        }
      ],
      "source": [
        "data_train.value_counts('Cabin',dropna=False)\n"
      ]
    },
    {
      "cell_type": "code",
      "execution_count": null,
      "metadata": {
        "colab": {
          "base_uri": "https://localhost:8080/"
        },
        "id": "6jkPSTtu7S0X",
        "outputId": "3f7f9b16-0981-4b74-bd5c-add19ebc404d"
      },
      "outputs": [
        {
          "data": {
            "text/plain": [
              "Cabin\n",
              "N    687\n",
              "C     59\n",
              "B     47\n",
              "D     33\n",
              "E     32\n",
              "A     15\n",
              "F     13\n",
              "G      4\n",
              "T      1\n",
              "dtype: int64"
            ]
          },
          "execution_count": 138,
          "metadata": {},
          "output_type": "execute_result"
        }
      ],
      "source": [
        "data_train['Cabin'] = data_train['Cabin'].fillna('N')\n",
        "def group_cabin(cabin):\n",
        "    return cabin[0]\n",
        "\n",
        "data_train['Cabin'] = data_train['Cabin'].apply(group_cabin)\n",
        "data_train.value_counts('Cabin',dropna=False)\n"
      ]
    },
    {
      "attachments": {},
      "cell_type": "markdown",
      "metadata": {
        "id": "DURi_fjK9BoG"
      },
      "source": [
        "## **Embarked**"
      ]
    },
    {
      "cell_type": "code",
      "execution_count": null,
      "metadata": {
        "colab": {
          "base_uri": "https://localhost:8080/"
        },
        "id": "uBTtwOU19oV6",
        "outputId": "7bc4633c-4b45-4abb-c7b0-99144438bb77"
      },
      "outputs": [
        {
          "data": {
            "text/plain": [
              "Embarked\n",
              "S      644\n",
              "C      168\n",
              "Q       77\n",
              "NaN      2\n",
              "dtype: int64"
            ]
          },
          "execution_count": 139,
          "metadata": {},
          "output_type": "execute_result"
        }
      ],
      "source": [
        "data_train.value_counts('Embarked',dropna=False)"
      ]
    },
    {
      "cell_type": "code",
      "execution_count": null,
      "metadata": {
        "colab": {
          "base_uri": "https://localhost:8080/"
        },
        "id": "_8iMyID39CDe",
        "outputId": "fd4bf6dc-8b76-472d-a494-1f1198b3a354"
      },
      "outputs": [
        {
          "data": {
            "text/plain": [
              "Embarked\n",
              "S    644\n",
              "C    168\n",
              "Q     77\n",
              "dtype: int64"
            ]
          },
          "execution_count": 140,
          "metadata": {},
          "output_type": "execute_result"
        }
      ],
      "source": [
        "index_nanEmbarked = data_train[data_train.Embarked.isna()].index.values\n",
        "data_train = data_train.drop(index_nanEmbarked)\n",
        "data_train.value_counts('Embarked',dropna=False)"
      ]
    },
    {
      "attachments": {},
      "cell_type": "markdown",
      "metadata": {
        "id": "pTK-jwp8_nNz"
      },
      "source": [
        "# **Cleaning**"
      ]
    },
    {
      "attachments": {},
      "cell_type": "markdown",
      "metadata": {
        "id": "uopPcRxn_vOs"
      },
      "source": [
        "## **Normalize Age and Fair data**"
      ]
    },
    {
      "cell_type": "code",
      "execution_count": null,
      "metadata": {
        "colab": {
          "base_uri": "https://localhost:8080/",
          "height": 206
        },
        "id": "7Hdmsy70_mGj",
        "outputId": "dc394ed4-7d46-45bc-aaea-01afe60ebb3b"
      },
      "outputs": [
        {
          "data": {
            "text/html": [
              "\n",
              "  <div id=\"df-b50b7a22-236a-4bae-b919-dc3162e11bef\">\n",
              "    <div class=\"colab-df-container\">\n",
              "      <div>\n",
              "<style scoped>\n",
              "    .dataframe tbody tr th:only-of-type {\n",
              "        vertical-align: middle;\n",
              "    }\n",
              "\n",
              "    .dataframe tbody tr th {\n",
              "        vertical-align: top;\n",
              "    }\n",
              "\n",
              "    .dataframe thead th {\n",
              "        text-align: right;\n",
              "    }\n",
              "</style>\n",
              "<table border=\"1\" class=\"dataframe\">\n",
              "  <thead>\n",
              "    <tr style=\"text-align: right;\">\n",
              "      <th></th>\n",
              "      <th>PassengerId</th>\n",
              "      <th>Survived</th>\n",
              "      <th>Pclass</th>\n",
              "      <th>Name</th>\n",
              "      <th>Sex</th>\n",
              "      <th>Age</th>\n",
              "      <th>SibSp</th>\n",
              "      <th>Parch</th>\n",
              "      <th>Ticket</th>\n",
              "      <th>Fare</th>\n",
              "      <th>Cabin</th>\n",
              "      <th>Embarked</th>\n",
              "    </tr>\n",
              "  </thead>\n",
              "  <tbody>\n",
              "    <tr>\n",
              "      <th>0</th>\n",
              "      <td>1</td>\n",
              "      <td>0</td>\n",
              "      <td>3</td>\n",
              "      <td>Braund, Mr. Owen Harris</td>\n",
              "      <td>1</td>\n",
              "      <td>-0.590163</td>\n",
              "      <td>1</td>\n",
              "      <td>0</td>\n",
              "      <td>A/5 21171</td>\n",
              "      <td>-0.499958</td>\n",
              "      <td>N</td>\n",
              "      <td>S</td>\n",
              "    </tr>\n",
              "    <tr>\n",
              "      <th>1</th>\n",
              "      <td>2</td>\n",
              "      <td>1</td>\n",
              "      <td>1</td>\n",
              "      <td>Cumings, Mrs. John Bradley (Florence Briggs Th...</td>\n",
              "      <td>0</td>\n",
              "      <td>0.643609</td>\n",
              "      <td>1</td>\n",
              "      <td>0</td>\n",
              "      <td>PC 17599</td>\n",
              "      <td>0.788503</td>\n",
              "      <td>C</td>\n",
              "      <td>C</td>\n",
              "    </tr>\n",
              "    <tr>\n",
              "      <th>2</th>\n",
              "      <td>3</td>\n",
              "      <td>1</td>\n",
              "      <td>3</td>\n",
              "      <td>Heikkinen, Miss. Laina</td>\n",
              "      <td>0</td>\n",
              "      <td>-0.281720</td>\n",
              "      <td>0</td>\n",
              "      <td>0</td>\n",
              "      <td>STON/O2. 3101282</td>\n",
              "      <td>-0.486376</td>\n",
              "      <td>N</td>\n",
              "      <td>S</td>\n",
              "    </tr>\n",
              "    <tr>\n",
              "      <th>3</th>\n",
              "      <td>4</td>\n",
              "      <td>1</td>\n",
              "      <td>1</td>\n",
              "      <td>Futrelle, Mrs. Jacques Heath (Lily May Peel)</td>\n",
              "      <td>0</td>\n",
              "      <td>0.412277</td>\n",
              "      <td>1</td>\n",
              "      <td>0</td>\n",
              "      <td>113803</td>\n",
              "      <td>0.422623</td>\n",
              "      <td>C</td>\n",
              "      <td>S</td>\n",
              "    </tr>\n",
              "    <tr>\n",
              "      <th>4</th>\n",
              "      <td>5</td>\n",
              "      <td>0</td>\n",
              "      <td>3</td>\n",
              "      <td>Allen, Mr. William Henry</td>\n",
              "      <td>1</td>\n",
              "      <td>0.412277</td>\n",
              "      <td>0</td>\n",
              "      <td>0</td>\n",
              "      <td>373450</td>\n",
              "      <td>-0.483861</td>\n",
              "      <td>N</td>\n",
              "      <td>S</td>\n",
              "    </tr>\n",
              "  </tbody>\n",
              "</table>\n",
              "</div>\n",
              "      <button class=\"colab-df-convert\" onclick=\"convertToInteractive('df-b50b7a22-236a-4bae-b919-dc3162e11bef')\"\n",
              "              title=\"Convert this dataframe to an interactive table.\"\n",
              "              style=\"display:none;\">\n",
              "        \n",
              "  <svg xmlns=\"http://www.w3.org/2000/svg\" height=\"24px\"viewBox=\"0 0 24 24\"\n",
              "       width=\"24px\">\n",
              "    <path d=\"M0 0h24v24H0V0z\" fill=\"none\"/>\n",
              "    <path d=\"M18.56 5.44l.94 2.06.94-2.06 2.06-.94-2.06-.94-.94-2.06-.94 2.06-2.06.94zm-11 1L8.5 8.5l.94-2.06 2.06-.94-2.06-.94L8.5 2.5l-.94 2.06-2.06.94zm10 10l.94 2.06.94-2.06 2.06-.94-2.06-.94-.94-2.06-.94 2.06-2.06.94z\"/><path d=\"M17.41 7.96l-1.37-1.37c-.4-.4-.92-.59-1.43-.59-.52 0-1.04.2-1.43.59L10.3 9.45l-7.72 7.72c-.78.78-.78 2.05 0 2.83L4 21.41c.39.39.9.59 1.41.59.51 0 1.02-.2 1.41-.59l7.78-7.78 2.81-2.81c.8-.78.8-2.07 0-2.86zM5.41 20L4 18.59l7.72-7.72 1.47 1.35L5.41 20z\"/>\n",
              "  </svg>\n",
              "      </button>\n",
              "      \n",
              "  <style>\n",
              "    .colab-df-container {\n",
              "      display:flex;\n",
              "      flex-wrap:wrap;\n",
              "      gap: 12px;\n",
              "    }\n",
              "\n",
              "    .colab-df-convert {\n",
              "      background-color: #E8F0FE;\n",
              "      border: none;\n",
              "      border-radius: 50%;\n",
              "      cursor: pointer;\n",
              "      display: none;\n",
              "      fill: #1967D2;\n",
              "      height: 32px;\n",
              "      padding: 0 0 0 0;\n",
              "      width: 32px;\n",
              "    }\n",
              "\n",
              "    .colab-df-convert:hover {\n",
              "      background-color: #E2EBFA;\n",
              "      box-shadow: 0px 1px 2px rgba(60, 64, 67, 0.3), 0px 1px 3px 1px rgba(60, 64, 67, 0.15);\n",
              "      fill: #174EA6;\n",
              "    }\n",
              "\n",
              "    [theme=dark] .colab-df-convert {\n",
              "      background-color: #3B4455;\n",
              "      fill: #D2E3FC;\n",
              "    }\n",
              "\n",
              "    [theme=dark] .colab-df-convert:hover {\n",
              "      background-color: #434B5C;\n",
              "      box-shadow: 0px 1px 3px 1px rgba(0, 0, 0, 0.15);\n",
              "      filter: drop-shadow(0px 1px 2px rgba(0, 0, 0, 0.3));\n",
              "      fill: #FFFFFF;\n",
              "    }\n",
              "  </style>\n",
              "\n",
              "      <script>\n",
              "        const buttonEl =\n",
              "          document.querySelector('#df-b50b7a22-236a-4bae-b919-dc3162e11bef button.colab-df-convert');\n",
              "        buttonEl.style.display =\n",
              "          google.colab.kernel.accessAllowed ? 'block' : 'none';\n",
              "\n",
              "        async function convertToInteractive(key) {\n",
              "          const element = document.querySelector('#df-b50b7a22-236a-4bae-b919-dc3162e11bef');\n",
              "          const dataTable =\n",
              "            await google.colab.kernel.invokeFunction('convertToInteractive',\n",
              "                                                     [key], {});\n",
              "          if (!dataTable) return;\n",
              "\n",
              "          const docLinkHtml = 'Like what you see? Visit the ' +\n",
              "            '<a target=\"_blank\" href=https://colab.research.google.com/notebooks/data_table.ipynb>data table notebook</a>'\n",
              "            + ' to learn more about interactive tables.';\n",
              "          element.innerHTML = '';\n",
              "          dataTable['output_type'] = 'display_data';\n",
              "          await google.colab.output.renderOutput(dataTable, element);\n",
              "          const docLink = document.createElement('div');\n",
              "          docLink.innerHTML = docLinkHtml;\n",
              "          element.appendChild(docLink);\n",
              "        }\n",
              "      </script>\n",
              "    </div>\n",
              "  </div>\n",
              "  "
            ],
            "text/plain": [
              "   PassengerId  Survived  Pclass  \\\n",
              "0            1         0       3   \n",
              "1            2         1       1   \n",
              "2            3         1       3   \n",
              "3            4         1       1   \n",
              "4            5         0       3   \n",
              "\n",
              "                                                Name  Sex       Age  SibSp  \\\n",
              "0                            Braund, Mr. Owen Harris    1 -0.590163      1   \n",
              "1  Cumings, Mrs. John Bradley (Florence Briggs Th...    0  0.643609      1   \n",
              "2                             Heikkinen, Miss. Laina    0 -0.281720      0   \n",
              "3       Futrelle, Mrs. Jacques Heath (Lily May Peel)    0  0.412277      1   \n",
              "4                           Allen, Mr. William Henry    1  0.412277      0   \n",
              "\n",
              "   Parch            Ticket      Fare Cabin Embarked  \n",
              "0      0         A/5 21171 -0.499958     N        S  \n",
              "1      0          PC 17599  0.788503     C        C  \n",
              "2      0  STON/O2. 3101282 -0.486376     N        S  \n",
              "3      0            113803  0.422623     C        S  \n",
              "4      0            373450 -0.483861     N        S  "
            ]
          },
          "execution_count": 141,
          "metadata": {},
          "output_type": "execute_result"
        }
      ],
      "source": [
        "mean_Age, std_Age = data_train.Age.mean(), data_train.Age.std()\n",
        "mean_Fare, std_Fare = data_train.Fare.mean(), data_train.Fare.std()\n",
        "\n",
        "data_train.Age = (data_train.Age-mean_Age)/std_Age\n",
        "data_train.Fare = (data_train.Fare-mean_Fare)/std_Fare\n",
        "\n",
        "\n",
        "data_train.head()"
      ]
    },
    {
      "attachments": {},
      "cell_type": "markdown",
      "metadata": {
        "id": "m261du53AUBy"
      },
      "source": [
        "## **Drop columns**"
      ]
    },
    {
      "cell_type": "code",
      "execution_count": null,
      "metadata": {
        "colab": {
          "base_uri": "https://localhost:8080/",
          "height": 363
        },
        "id": "Vmv7djY0ATM5",
        "outputId": "0c1088a6-44d9-43ce-a3d3-b74d0ab53f88"
      },
      "outputs": [
        {
          "data": {
            "text/html": [
              "\n",
              "  <div id=\"df-e9ba3440-9f45-408a-9a7d-5f29d555bd75\">\n",
              "    <div class=\"colab-df-container\">\n",
              "      <div>\n",
              "<style scoped>\n",
              "    .dataframe tbody tr th:only-of-type {\n",
              "        vertical-align: middle;\n",
              "    }\n",
              "\n",
              "    .dataframe tbody tr th {\n",
              "        vertical-align: top;\n",
              "    }\n",
              "\n",
              "    .dataframe thead th {\n",
              "        text-align: right;\n",
              "    }\n",
              "</style>\n",
              "<table border=\"1\" class=\"dataframe\">\n",
              "  <thead>\n",
              "    <tr style=\"text-align: right;\">\n",
              "      <th></th>\n",
              "      <th>Survived</th>\n",
              "      <th>Pclass</th>\n",
              "      <th>Sex</th>\n",
              "      <th>Age</th>\n",
              "      <th>SibSp</th>\n",
              "      <th>Parch</th>\n",
              "      <th>Fare</th>\n",
              "      <th>Cabin</th>\n",
              "      <th>Embarked</th>\n",
              "    </tr>\n",
              "  </thead>\n",
              "  <tbody>\n",
              "    <tr>\n",
              "      <th>0</th>\n",
              "      <td>0</td>\n",
              "      <td>3</td>\n",
              "      <td>1</td>\n",
              "      <td>-0.590163</td>\n",
              "      <td>1</td>\n",
              "      <td>0</td>\n",
              "      <td>-0.499958</td>\n",
              "      <td>N</td>\n",
              "      <td>S</td>\n",
              "    </tr>\n",
              "    <tr>\n",
              "      <th>1</th>\n",
              "      <td>1</td>\n",
              "      <td>1</td>\n",
              "      <td>0</td>\n",
              "      <td>0.643609</td>\n",
              "      <td>1</td>\n",
              "      <td>0</td>\n",
              "      <td>0.788503</td>\n",
              "      <td>C</td>\n",
              "      <td>C</td>\n",
              "    </tr>\n",
              "    <tr>\n",
              "      <th>2</th>\n",
              "      <td>1</td>\n",
              "      <td>3</td>\n",
              "      <td>0</td>\n",
              "      <td>-0.281720</td>\n",
              "      <td>0</td>\n",
              "      <td>0</td>\n",
              "      <td>-0.486376</td>\n",
              "      <td>N</td>\n",
              "      <td>S</td>\n",
              "    </tr>\n",
              "    <tr>\n",
              "      <th>3</th>\n",
              "      <td>1</td>\n",
              "      <td>1</td>\n",
              "      <td>0</td>\n",
              "      <td>0.412277</td>\n",
              "      <td>1</td>\n",
              "      <td>0</td>\n",
              "      <td>0.422623</td>\n",
              "      <td>C</td>\n",
              "      <td>S</td>\n",
              "    </tr>\n",
              "    <tr>\n",
              "      <th>4</th>\n",
              "      <td>0</td>\n",
              "      <td>3</td>\n",
              "      <td>1</td>\n",
              "      <td>0.412277</td>\n",
              "      <td>0</td>\n",
              "      <td>0</td>\n",
              "      <td>-0.483861</td>\n",
              "      <td>N</td>\n",
              "      <td>S</td>\n",
              "    </tr>\n",
              "    <tr>\n",
              "      <th>5</th>\n",
              "      <td>0</td>\n",
              "      <td>3</td>\n",
              "      <td>1</td>\n",
              "      <td>0.003522</td>\n",
              "      <td>0</td>\n",
              "      <td>0</td>\n",
              "      <td>-0.475645</td>\n",
              "      <td>N</td>\n",
              "      <td>Q</td>\n",
              "    </tr>\n",
              "    <tr>\n",
              "      <th>6</th>\n",
              "      <td>0</td>\n",
              "      <td>1</td>\n",
              "      <td>1</td>\n",
              "      <td>1.877380</td>\n",
              "      <td>0</td>\n",
              "      <td>0</td>\n",
              "      <td>0.397723</td>\n",
              "      <td>E</td>\n",
              "      <td>S</td>\n",
              "    </tr>\n",
              "    <tr>\n",
              "      <th>7</th>\n",
              "      <td>0</td>\n",
              "      <td>3</td>\n",
              "      <td>1</td>\n",
              "      <td>-2.132377</td>\n",
              "      <td>3</td>\n",
              "      <td>1</td>\n",
              "      <td>-0.221775</td>\n",
              "      <td>N</td>\n",
              "      <td>S</td>\n",
              "    </tr>\n",
              "    <tr>\n",
              "      <th>8</th>\n",
              "      <td>1</td>\n",
              "      <td>3</td>\n",
              "      <td>0</td>\n",
              "      <td>-0.204609</td>\n",
              "      <td>0</td>\n",
              "      <td>2</td>\n",
              "      <td>-0.421820</td>\n",
              "      <td>N</td>\n",
              "      <td>S</td>\n",
              "    </tr>\n",
              "    <tr>\n",
              "      <th>9</th>\n",
              "      <td>1</td>\n",
              "      <td>2</td>\n",
              "      <td>0</td>\n",
              "      <td>-1.207048</td>\n",
              "      <td>1</td>\n",
              "      <td>0</td>\n",
              "      <td>-0.040764</td>\n",
              "      <td>N</td>\n",
              "      <td>C</td>\n",
              "    </tr>\n",
              "  </tbody>\n",
              "</table>\n",
              "</div>\n",
              "      <button class=\"colab-df-convert\" onclick=\"convertToInteractive('df-e9ba3440-9f45-408a-9a7d-5f29d555bd75')\"\n",
              "              title=\"Convert this dataframe to an interactive table.\"\n",
              "              style=\"display:none;\">\n",
              "        \n",
              "  <svg xmlns=\"http://www.w3.org/2000/svg\" height=\"24px\"viewBox=\"0 0 24 24\"\n",
              "       width=\"24px\">\n",
              "    <path d=\"M0 0h24v24H0V0z\" fill=\"none\"/>\n",
              "    <path d=\"M18.56 5.44l.94 2.06.94-2.06 2.06-.94-2.06-.94-.94-2.06-.94 2.06-2.06.94zm-11 1L8.5 8.5l.94-2.06 2.06-.94-2.06-.94L8.5 2.5l-.94 2.06-2.06.94zm10 10l.94 2.06.94-2.06 2.06-.94-2.06-.94-.94-2.06-.94 2.06-2.06.94z\"/><path d=\"M17.41 7.96l-1.37-1.37c-.4-.4-.92-.59-1.43-.59-.52 0-1.04.2-1.43.59L10.3 9.45l-7.72 7.72c-.78.78-.78 2.05 0 2.83L4 21.41c.39.39.9.59 1.41.59.51 0 1.02-.2 1.41-.59l7.78-7.78 2.81-2.81c.8-.78.8-2.07 0-2.86zM5.41 20L4 18.59l7.72-7.72 1.47 1.35L5.41 20z\"/>\n",
              "  </svg>\n",
              "      </button>\n",
              "      \n",
              "  <style>\n",
              "    .colab-df-container {\n",
              "      display:flex;\n",
              "      flex-wrap:wrap;\n",
              "      gap: 12px;\n",
              "    }\n",
              "\n",
              "    .colab-df-convert {\n",
              "      background-color: #E8F0FE;\n",
              "      border: none;\n",
              "      border-radius: 50%;\n",
              "      cursor: pointer;\n",
              "      display: none;\n",
              "      fill: #1967D2;\n",
              "      height: 32px;\n",
              "      padding: 0 0 0 0;\n",
              "      width: 32px;\n",
              "    }\n",
              "\n",
              "    .colab-df-convert:hover {\n",
              "      background-color: #E2EBFA;\n",
              "      box-shadow: 0px 1px 2px rgba(60, 64, 67, 0.3), 0px 1px 3px 1px rgba(60, 64, 67, 0.15);\n",
              "      fill: #174EA6;\n",
              "    }\n",
              "\n",
              "    [theme=dark] .colab-df-convert {\n",
              "      background-color: #3B4455;\n",
              "      fill: #D2E3FC;\n",
              "    }\n",
              "\n",
              "    [theme=dark] .colab-df-convert:hover {\n",
              "      background-color: #434B5C;\n",
              "      box-shadow: 0px 1px 3px 1px rgba(0, 0, 0, 0.15);\n",
              "      filter: drop-shadow(0px 1px 2px rgba(0, 0, 0, 0.3));\n",
              "      fill: #FFFFFF;\n",
              "    }\n",
              "  </style>\n",
              "\n",
              "      <script>\n",
              "        const buttonEl =\n",
              "          document.querySelector('#df-e9ba3440-9f45-408a-9a7d-5f29d555bd75 button.colab-df-convert');\n",
              "        buttonEl.style.display =\n",
              "          google.colab.kernel.accessAllowed ? 'block' : 'none';\n",
              "\n",
              "        async function convertToInteractive(key) {\n",
              "          const element = document.querySelector('#df-e9ba3440-9f45-408a-9a7d-5f29d555bd75');\n",
              "          const dataTable =\n",
              "            await google.colab.kernel.invokeFunction('convertToInteractive',\n",
              "                                                     [key], {});\n",
              "          if (!dataTable) return;\n",
              "\n",
              "          const docLinkHtml = 'Like what you see? Visit the ' +\n",
              "            '<a target=\"_blank\" href=https://colab.research.google.com/notebooks/data_table.ipynb>data table notebook</a>'\n",
              "            + ' to learn more about interactive tables.';\n",
              "          element.innerHTML = '';\n",
              "          dataTable['output_type'] = 'display_data';\n",
              "          await google.colab.output.renderOutput(dataTable, element);\n",
              "          const docLink = document.createElement('div');\n",
              "          docLink.innerHTML = docLinkHtml;\n",
              "          element.appendChild(docLink);\n",
              "        }\n",
              "      </script>\n",
              "    </div>\n",
              "  </div>\n",
              "  "
            ],
            "text/plain": [
              "   Survived  Pclass  Sex       Age  SibSp  Parch      Fare Cabin Embarked\n",
              "0         0       3    1 -0.590163      1      0 -0.499958     N        S\n",
              "1         1       1    0  0.643609      1      0  0.788503     C        C\n",
              "2         1       3    0 -0.281720      0      0 -0.486376     N        S\n",
              "3         1       1    0  0.412277      1      0  0.422623     C        S\n",
              "4         0       3    1  0.412277      0      0 -0.483861     N        S\n",
              "5         0       3    1  0.003522      0      0 -0.475645     N        Q\n",
              "6         0       1    1  1.877380      0      0  0.397723     E        S\n",
              "7         0       3    1 -2.132377      3      1 -0.221775     N        S\n",
              "8         1       3    0 -0.204609      0      2 -0.421820     N        S\n",
              "9         1       2    0 -1.207048      1      0 -0.040764     N        C"
            ]
          },
          "execution_count": 142,
          "metadata": {},
          "output_type": "execute_result"
        }
      ],
      "source": [
        "data_train_Cleaned = data_train.drop(columns=['PassengerId','Name','Ticket'])\n",
        "data_train_Cleaned.head(10)"
      ]
    },
    {
      "attachments": {},
      "cell_type": "markdown",
      "metadata": {
        "id": "wUVpn_7oBHHY"
      },
      "source": [
        "## **One-hot encoding**"
      ]
    },
    {
      "cell_type": "code",
      "execution_count": null,
      "metadata": {
        "colab": {
          "base_uri": "https://localhost:8080/"
        },
        "id": "RW-3Ow_WBGzJ",
        "outputId": "8f8f2ebb-4f8d-4a52-d013-f1f46d74e3db"
      },
      "outputs": [
        {
          "name": "stdout",
          "output_type": "stream",
          "text": [
            "The multiclass categorical features are:\n",
            "['Pclass', 'Embarked', 'Cabin']\n",
            "total number of features after one-hot encoding: 20\n"
          ]
        }
      ],
      "source": [
        "cat_features = ['Pclass','Embarked','Cabin']\n",
        "print(f\"The multiclass categorical features are:\\n{cat_features}\")\n",
        "data_train_OHE = pd.get_dummies(data = data_train_Cleaned, prefix = cat_features, columns = cat_features)\n",
        "\n",
        "print(f\"total number of features after one-hot encoding: {len(data_train_OHE.columns)-1}\")"
      ]
    },
    {
      "attachments": {},
      "cell_type": "markdown",
      "metadata": {
        "id": "zkNyIfwzA77u"
      },
      "source": [
        "## **Correllation**"
      ]
    },
    {
      "cell_type": "code",
      "execution_count": null,
      "metadata": {
        "colab": {
          "base_uri": "https://localhost:8080/",
          "height": 448
        },
        "id": "qSzRFVweAsPm",
        "outputId": "d6a7002d-4baf-4bc4-f677-07077c26097a"
      },
      "outputs": [
        {
          "data": {
            "image/png": "[encoded data removed]",
            "text/plain": [
              "<Figure size 600x500 with 2 Axes>"
            ]
          },
          "metadata": {},
          "output_type": "display_data"
        }
      ],
      "source": [
        "corr = data_train_OHE.corr().loc[:,'Survived']\n",
        "corr = corr.sort_values(ascending=False)\n",
        "\n",
        "plt.figure(figsize=(6,5))\n",
        "sns.heatmap(corr.iloc[1:].to_frame(), cmap=\"Blues\", xticklabels=False, yticklabels=True)\n",
        "plt.title('Correlation with survival')\n",
        "plt.show()\n"
      ]
    },
    {
      "attachments": {},
      "cell_type": "markdown",
      "metadata": {
        "id": "UWmyflzhCmf4"
      },
      "source": [
        "# **Machine Learning**"
      ]
    },
    {
      "cell_type": "code",
      "execution_count": null,
      "metadata": {
        "colab": {
          "base_uri": "https://localhost:8080/"
        },
        "id": "nR9M6s-zC5tf",
        "outputId": "e348164c-24de-4e64-f1be-fe9b234cc109"
      },
      "outputs": [
        {
          "name": "stdout",
          "output_type": "stream",
          "text": [
            "X_train.shape = (711, 20), X_test.shape = (178, 20)\n",
            "y_train.shape = (711,), y_test.shape = (178,)\n"
          ]
        }
      ],
      "source": [
        "from sklearn.model_selection import train_test_split\n",
        "X = data_train_OHE.drop(columns='Survived')\n",
        "y = data_train_OHE.Survived\n",
        "X_train, X_test, y_train, y_test = train_test_split(X,y,train_size=0.8, random_state=1)\n",
        "print(f\"X_train.shape = {X_train.shape}, X_test.shape = {X_test.shape}\")\n",
        "print(f\"y_train.shape = {y_train.shape}, y_test.shape = {y_test.shape}\")\n"
      ]
    },
    {
      "attachments": {},
      "cell_type": "markdown",
      "metadata": {
        "id": "VH21n7xGCwPw"
      },
      "source": [
        "## **Logistic Regression**"
      ]
    },
    {
      "cell_type": "code",
      "execution_count": null,
      "metadata": {
        "id": "0HwDpAf5Cttt"
      },
      "outputs": [],
      "source": [
        "model_LG = LogisticRegression()\n",
        "model_LG.fit(X_train, y_train)\n",
        "ytr_pred = model_LG.predict(X_train)\n",
        "y_pred = model_LG.predict(X_test)"
      ]
    },
    {
      "cell_type": "code",
      "execution_count": null,
      "metadata": {
        "colab": {
          "base_uri": "https://localhost:8080/",
          "height": 661
        },
        "id": "pBuJ8fVcEBfP",
        "outputId": "6d40d960-d1e2-4be0-d304-b07a29b1d957"
      },
      "outputs": [
        {
          "name": "stdout",
          "output_type": "stream",
          "text": [
            "Logistic Regression:\n",
            " train accuracy = 80.73%, test accuracy = 85.39%\n",
            "======================================================================\n",
            "Report:\n",
            "              precision    recall  f1-score   support\n",
            "\n",
            "           0       0.87      0.89      0.88       105\n",
            "           1       0.83      0.81      0.82        73\n",
            "\n",
            "    accuracy                           0.85       178\n",
            "   macro avg       0.85      0.85      0.85       178\n",
            "weighted avg       0.85      0.85      0.85       178\n",
            "\n"
          ]
        },
        {
          "data": {
            "image/png": "[encoded data removed]",
            "text/plain": [
              "<Figure size 640x480 with 2 Axes>"
            ]
          },
          "metadata": {},
          "output_type": "display_data"
        }
      ],
      "source": [
        "trainAcc_LG = metrics.accuracy_score(ytr_pred,y_train)*100\n",
        "testAcc_LG = metrics.accuracy_score(y_pred,y_test)*100\n",
        "print(\"Logistic Regression:\")\n",
        "print(f\" train accuracy = {trainAcc_LG:.2f}%, test accuracy = {testAcc_LG:.2f}%\")\n",
        "print(\"=\"*70)\n",
        "\n",
        "print(\"Report:\")\n",
        "print(metrics.classification_report(y_test,y_pred))\n",
        "\n",
        "con_matrix = metrics.confusion_matrix(y_test,y_pred)\n",
        "sns.heatmap(con_matrix,annot=True, cmap= 'Blues',\n",
        "            xticklabels=['not Survived', 'Survived'],\n",
        "            yticklabels=['not Survived', 'Survived'])\n",
        "plt.show()"
      ]
    },
    {
      "cell_type": "code",
      "execution_count": null,
      "metadata": {
        "colab": {
          "base_uri": "https://localhost:8080/"
        },
        "id": "AvYpUxrrvuS0",
        "outputId": "b367fa7d-165d-4f0c-cc29-26b0d4e3b406"
      },
      "outputs": [
        {
          "data": {
            "text/plain": [
              "Survived      1.000000\n",
              "Pclass_1      0.282368\n",
              "Fare          0.255290\n",
              "Embarked_C    0.169966\n",
              "Cabin_B       0.166714\n",
              "Cabin_D       0.151555\n",
              "Cabin_E       0.146142\n",
              "Cabin_C       0.115629\n",
              "Pclass_2      0.095002\n",
              "Parch         0.083151\n",
              "Cabin_F       0.058388\n",
              "Cabin_A       0.022701\n",
              "Cabin_G       0.016261\n",
              "Embarked_Q    0.004536\n",
              "Cabin_T      -0.026409\n",
              "SibSp        -0.034040\n",
              "Age          -0.074673\n",
              "Embarked_S   -0.151777\n",
              "Cabin_N      -0.313435\n",
              "Pclass_3     -0.320171\n",
              "Sex          -0.541585\n",
              "Name: Survived, dtype: float64"
            ]
          },
          "execution_count": 148,
          "metadata": {},
          "output_type": "execute_result"
        }
      ],
      "source": [
        "corr"
      ]
    }
  ],
  "metadata": {
    "colab": {
      "provenance": []
    },
    "kernelspec": {
      "display_name": "Python 3",
      "name": "python3"
    },
    "language_info": {
      "name": "python"
    }
  },
  "nbformat": 4,
  "nbformat_minor": 0
}
